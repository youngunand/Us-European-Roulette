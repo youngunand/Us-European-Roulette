{
 "cells": [
  {
   "cell_type": "code",
   "execution_count": 1,
   "metadata": {},
   "outputs": [
    {
     "ename": "ModuleNotFoundError",
     "evalue": "No module named 'numpy'",
     "output_type": "error",
     "traceback": [
      "\u001b[0;31m---------------------------------------------------------------------------\u001b[0m",
      "\u001b[0;31mModuleNotFoundError\u001b[0m                       Traceback (most recent call last)",
      "\u001b[0;32m<ipython-input-1-fe5cc750f2ad>\u001b[0m in \u001b[0;36m<module>\u001b[0;34m\u001b[0m\n\u001b[1;32m      1\u001b[0m \u001b[0;32mimport\u001b[0m \u001b[0mrandom\u001b[0m\u001b[0;34m\u001b[0m\u001b[0;34m\u001b[0m\u001b[0m\n\u001b[0;32m----> 2\u001b[0;31m \u001b[0;32mimport\u001b[0m \u001b[0mnumpy\u001b[0m \u001b[0;32mas\u001b[0m \u001b[0mnp\u001b[0m\u001b[0;34m\u001b[0m\u001b[0;34m\u001b[0m\u001b[0m\n\u001b[0m\u001b[1;32m      3\u001b[0m \u001b[0;32mimport\u001b[0m \u001b[0mmatplotlib\u001b[0m\u001b[0;34m.\u001b[0m\u001b[0mpyplot\u001b[0m \u001b[0;32mas\u001b[0m \u001b[0mplt\u001b[0m\u001b[0;34m\u001b[0m\u001b[0;34m\u001b[0m\u001b[0m\n\u001b[1;32m      4\u001b[0m \u001b[0;34m\u001b[0m\u001b[0m\n\u001b[1;32m      5\u001b[0m \u001b[0;34m\u001b[0m\u001b[0m\n",
      "\u001b[0;31mModuleNotFoundError\u001b[0m: No module named 'numpy'"
     ]
    }
   ],
   "source": [
    "import random\n",
    "import numpy as np\n",
    "import matplotlib.pyplot as plt\n",
    "\n",
    "\n",
    "\n",
    "\n",
    "karten = 500\n",
    "p = 1\n",
    "passende = 0\n",
    "durchlaufe_list = []\n",
    "durchlaufe = 0\n",
    "menschen = 0\n",
    "M = 10000\n",
    "\n",
    "durchschnitt_alle = 0\n",
    "durchschnitt = 0\n",
    "\n",
    "print(karten)\n",
    "\n",
    "for i in range(M + 1):\n",
    "    durchlaufe_list.append(i)\n",
    "\n",
    "print(durchlaufe_list)\n",
    "\n",
    "while menschen <= M:\n",
    "\n",
    "    for x in range(karten):\n",
    "\n",
    "\n",
    "        randNumber = random.uniform(0,1)\n",
    "        #print(randNumber)\n",
    "\n",
    "        durchlaufe = durchlaufe + 1\n",
    "\n",
    "        if randNumber <= p :\n",
    "            passende = passende + 1\n",
    "            p = p - (1/karten)\n",
    "\n",
    "        if passende == karten :\n",
    "            durchlaufe_list[menschen] = durchlaufe\n",
    "            durchlaufe = 0\n",
    "            passende = 0\n",
    "            p = 1\n",
    "            print(\"Durchlauf: \" + str(menschen))\n",
    "            menschen = menschen + 1\n",
    "\n",
    "\n",
    "\n",
    "MC_durchlaufe_list = np.array(durchlaufe_list).flatten()\n",
    "MC_ergebnis = np.mean(MC_durchlaufe_list)\n",
    "\n",
    "print(MC_ergebnis)\n",
    "\n",
    "for i in range(M):\n",
    "    durchschnitt_alle = durchschnitt_alle + durchlaufe_list[i]\n",
    "\n",
    "durchschnitt = durchschnitt_alle / M\n",
    "\n",
    "durchschnitt_int = int(durchschnitt)\n",
    "durchschnitt_String = str(durchschnitt_int)\n",
    "\n",
    "print(durchschnitt_String)\n",
    "\n",
    "#print(\"du musstest so viele karten kaufen: \")\n",
    "#print(durchlaufe_list)\n",
    "\n",
    "counts, bins, ignored = plt.hist(MC_durchlaufe_list, 80, density = True, color = 'purple', label = 'Panini Simulation: Durchschnitt = ' + durchschnitt_String)\n",
    "plt.title(\"Monte Carlo Simulation for Panini Stickers\")\n",
    "plt.axvline(1.5, 3000,1000, color = 'y')\n",
    "plt.xlabel(\"cards\")\n",
    "plt.ylabel(\"Probability\")\n",
    "plt.legend()\n",
    "plt.show()\n"
   ]
  },
  {
   "cell_type": "code",
   "execution_count": null,
   "metadata": {},
   "outputs": [],
   "source": []
  }
 ],
 "metadata": {
  "kernelspec": {
   "display_name": "Python 3 (ipykernel)",
   "language": "python",
   "name": "python3"
  },
  "language_info": {
   "codemirror_mode": {
    "name": "ipython",
    "version": 3
   },
   "file_extension": ".py",
   "mimetype": "text/x-python",
   "name": "python",
   "nbconvert_exporter": "python",
   "pygments_lexer": "ipython3",
   "version": "3.8.10"
  }
 },
 "nbformat": 4,
 "nbformat_minor": 2
}
